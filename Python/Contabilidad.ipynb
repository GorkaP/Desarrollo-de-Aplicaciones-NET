{
  "nbformat": 4,
  "nbformat_minor": 0,
  "metadata": {
    "colab": {
      "name": "Contabilidad.ipynb",
      "provenance": [],
      "toc_visible": true,
      "authorship_tag": "ABX9TyNH5kuMB1rGoj/l5/ibtvBa",
      "include_colab_link": true
    },
    "kernelspec": {
      "name": "python3",
      "display_name": "Python 3"
    }
  },
  "cells": [
    {
      "cell_type": "markdown",
      "metadata": {
        "id": "view-in-github",
        "colab_type": "text"
      },
      "source": [
        "<a href=\"https://colab.research.google.com/github/chekulhanseim/Desarrollo-de-Aplicaciones-NET/blob/master/Python/Contabilidad.ipynb\" target=\"_parent\"><img src=\"https://colab.research.google.com/assets/colab-badge.svg\" alt=\"Open In Colab\"/></a>"
      ]
    },
    {
      "cell_type": "markdown",
      "metadata": {
        "id": "ewH83l1YM77W",
        "colab_type": "text"
      },
      "source": [
        "Reto de Empresariales DAM 2\n",
        "[link text](https://docs.google.com/document/d/1lmNTI8bZZQamzYbagSYVc8KHP26NYLYloKpGW3vIr1w/)\n"
      ]
    },
    {
      "cell_type": "code",
      "metadata": {
        "id": "EFISFvt3M1St",
        "colab_type": "code",
        "colab": {
          "base_uri": "https://localhost:8080/",
          "height": 51
        },
        "outputId": "ba5e3f88-2a6d-4935-bbb8-734daa76b7d2"
      },
      "source": [
        "class assets:\n",
        "  def __init__(self, bank, debtors):\n",
        "    self.bank = bank\n",
        "    self.debtors = debtors\n",
        "\n",
        "  def TotalAssets(self):\n",
        "    return self.bank + self.debtors\n",
        "\n",
        "class liabilities:\n",
        "  def __init__(self, loans, creditors):\n",
        "    self.loans = loans\n",
        "    self.creditors = creditors\n",
        "\n",
        "  def TotalLiabilities(self):\n",
        "    return self.loans + self.creditors\n",
        "\n",
        "class equity:\n",
        "  def __init__(self, equity):\n",
        "    self.equity = equity\n",
        "\n",
        "assets2019 = assets(200, 50)\n",
        "liabilities2019 = liabilities(50, 100)\n",
        "equity2019 = equity(100)\n",
        "\n",
        "print(\"Total Equity\")\n",
        "print(assets2019.TotalAssets() - liabilities2019.TotalLiabilities())"
      ],
      "execution_count": 1,
      "outputs": [
        {
          "output_type": "stream",
          "text": [
            "Total Equity\n",
            "100\n"
          ],
          "name": "stdout"
        }
      ]
    }
  ]
}