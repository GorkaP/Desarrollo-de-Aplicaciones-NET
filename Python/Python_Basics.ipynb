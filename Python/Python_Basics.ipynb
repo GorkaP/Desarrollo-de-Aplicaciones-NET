{
  "nbformat": 4,
  "nbformat_minor": 0,
  "metadata": {
    "colab": {
      "name": "Python Basics.ipynb",
      "provenance": [],
      "toc_visible": true,
      "authorship_tag": "ABX9TyPXAiJeNcpRfmpO21lszjHi",
      "include_colab_link": true
    },
    "kernelspec": {
      "name": "python3",
      "display_name": "Python 3"
    }
  },
  "cells": [
    {
      "cell_type": "markdown",
      "metadata": {
        "id": "view-in-github",
        "colab_type": "text"
      },
      "source": [
        "<a href=\"https://colab.research.google.com/github/chekulhanseim/Desarrollo-de-Aplicaciones-NET/blob/master/Python/Python_Basics.ipynb\" target=\"_parent\"><img src=\"https://colab.research.google.com/assets/colab-badge.svg\" alt=\"Open In Colab\"/></a>"
      ]
    },
    {
      "cell_type": "markdown",
      "metadata": {
        "id": "dRPji-E_m7nk",
        "colab_type": "text"
      },
      "source": [
        "![image.png](data:image/png;base64,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)"
      ]
    },
    {
      "cell_type": "markdown",
      "metadata": {
        "id": "rZN41zCMm86K",
        "colab_type": "text"
      },
      "source": [
        "https://docs.python.org/3/tutorial/datastructures.html\n"
      ]
    },
    {
      "cell_type": "code",
      "metadata": {
        "id": "f2rZhpxfm-5R",
        "colab_type": "code",
        "outputId": "50fc31ca-c8b7-4b7e-f804-c36413173ef4",
        "colab": {
          "base_uri": "https://localhost:8080/",
          "height": 51
        }
      },
      "source": [
        "## Actividad 1:\n",
        "suma = 0\n",
        "valores = [10, 12, 20,22]\n",
        "\n",
        "num = int(input('Introducir un número: '))\n",
        "\n",
        "valores.append(num)\n",
        "valores.append(12)\n",
        "\n",
        "for i in valores:\n",
        "  suma = suma + i\n",
        "\n",
        "\n",
        "print(suma)"
      ],
      "execution_count": 0,
      "outputs": [
        {
          "output_type": "stream",
          "text": [
            "Introducir un número: 2\n",
            "78\n"
          ],
          "name": "stdout"
        }
      ]
    },
    {
      "cell_type": "code",
      "metadata": {
        "id": "9wz1K2zTmcpw",
        "colab_type": "code",
        "colab": {
          "base_uri": "https://localhost:8080/",
          "height": 272
        },
        "outputId": "9d5b3916-885a-4377-b18f-b5fe4fcb9454"
      },
      "source": [
        "# Actividad 2 Lists y bucle enum (preferible)\n",
        "lista = [21.42, 'foobar', 3, 4, 'bark', False, 3.14159]\n",
        "\n",
        "print(lista)\n",
        "\n",
        "for i, j in enumerate(lista):\n",
        "  print(i, j)\n",
        "\n",
        "for i,j in enumerate(lista):\n",
        "  print(j)\n"
      ],
      "execution_count": 6,
      "outputs": [
        {
          "output_type": "stream",
          "text": [
            "[21.42, 'foobar', 3, 4, 'bark', False, 3.14159]\n",
            "0 21.42\n",
            "1 foobar\n",
            "2 3\n",
            "3 4\n",
            "4 bark\n",
            "5 False\n",
            "6 3.14159\n",
            "21.42\n",
            "foobar\n",
            "3\n",
            "4\n",
            "bark\n",
            "False\n",
            "3.14159\n"
          ],
          "name": "stdout"
        }
      ]
    },
    {
      "cell_type": "code",
      "metadata": {
        "id": "Z6IYNTThpD3V",
        "colab_type": "code",
        "outputId": "e0a23d81-760b-4529-b058-3824f9fb32b0",
        "colab": {
          "base_uri": "https://localhost:8080/",
          "height": 119
        }
      },
      "source": [
        "## Actividad 3 Stacks\n",
        "\n",
        "stack = []\n",
        "stack.append(\"Don Quijote\")\n",
        "stack.append(\"La Biblia\")\n",
        "stack.append(\"Guerra y Paz\")\n",
        "stack.append(\"1984\")\n",
        "\n",
        "found = False\n",
        "\n",
        "libro = input(\"¿Qué libro quieres?\")\n",
        "while found == False:\n",
        "  if stack.pop() == libro:\n",
        "    print(\"Aqui tienes tu libro\")\n",
        "    found = True\n",
        "  else: \n",
        "    print(\"poping\")\n",
        "print (\"gracias por tu visita\")\n"
      ],
      "execution_count": 0,
      "outputs": [
        {
          "output_type": "stream",
          "text": [
            "¿Qué libro quieres?Don Quijote\n",
            "poping\n",
            "poping\n",
            "poping\n",
            "Aqui tienes tu libro\n",
            "gracias por tu visita\n"
          ],
          "name": "stdout"
        }
      ]
    },
    {
      "cell_type": "code",
      "metadata": {
        "id": "RyBWkNlaspMF",
        "colab_type": "code",
        "outputId": "8205d8a4-f4cb-4484-c48b-e55b9684184e",
        "colab": {
          "base_uri": "https://localhost:8080/",
          "height": 102
        }
      },
      "source": [
        "## Actividad 4 Sets\n",
        "colorsprimary = {\"red\", \"green\", \"blue\"}\n",
        "colorssecondary = {\"orange\", \"purple\", \"black\"}\n",
        "\n",
        "print(colorsprimary)\n",
        "print(colorssecondary)\n",
        "\n",
        "print(\"red\" in colorsprimary)\n",
        "\n",
        "colorsprimary = set([\"yellow\", \"green\", \"blue\"])\n",
        "colorssecondary = set([\"orange\", \"purple\", \"black\", \"yellow\"])\n",
        "allcolours = colorsprimary & colorssecondary\n",
        "print(allcolours)\n",
        "allcolours = colorsprimary | colorssecondary\n",
        "print(allcolours)"
      ],
      "execution_count": 0,
      "outputs": [
        {
          "output_type": "stream",
          "text": [
            "{'green', 'blue', 'red'}\n",
            "{'black', 'orange', 'purple'}\n",
            "True\n",
            "{'yellow'}\n",
            "{'blue', 'black', 'yellow', 'green', 'orange', 'purple'}\n"
          ],
          "name": "stdout"
        }
      ]
    },
    {
      "cell_type": "code",
      "metadata": {
        "id": "FqF845aRwMIX",
        "colab_type": "code",
        "outputId": "0f7d558d-826e-4aa7-9e99-f48a35a6bbc8",
        "colab": {
          "base_uri": "https://localhost:8080/",
          "height": 34
        }
      },
      "source": [
        "## Actividad 5 Dictionary\n",
        "colors = {\"red\":\"435fsd\", \"green\":\"500dfd\", \"blue\":\"5ere44\"}\n",
        "print(colors[\"green\"])\n"
      ],
      "execution_count": 0,
      "outputs": [
        {
          "output_type": "stream",
          "text": [
            "500dfd\n"
          ],
          "name": "stdout"
        }
      ]
    },
    {
      "cell_type": "code",
      "metadata": {
        "id": "tGUVXFgjyDEJ",
        "colab_type": "code",
        "outputId": "f507cc94-1299-45aa-c283-980ab5341dc0",
        "colab": {
          "base_uri": "https://localhost:8080/",
          "height": 545
        }
      },
      "source": [
        "## Actividad 6: Pandas\n",
        "import pandas as pd\n",
        "\n",
        "!wget https://perso.telecom-paristech.fr/eagan/class/igr204/data/film.csv\n",
        "\n",
        "pd.read_csv(\"https://perso.telecom-paristech.fr/eagan/class/igr204/data/film.csv\")\n",
        "\n",
        "pd.head(10)"
      ],
      "execution_count": 0,
      "outputs": [
        {
          "output_type": "error",
          "ename": "ParserError",
          "evalue": "ignored",
          "traceback": [
            "\u001b[0;31m---------------------------------------------------------------------------\u001b[0m",
            "\u001b[0;31mParserError\u001b[0m                               Traceback (most recent call last)",
            "\u001b[0;32m<ipython-input-43-9a1cae0635a1>\u001b[0m in \u001b[0;36m<module>\u001b[0;34m()\u001b[0m\n\u001b[1;32m      1\u001b[0m \u001b[0;32mimport\u001b[0m \u001b[0mpandas\u001b[0m \u001b[0;32mas\u001b[0m \u001b[0mpd\u001b[0m\u001b[0;34m\u001b[0m\u001b[0;34m\u001b[0m\u001b[0m\n\u001b[1;32m      2\u001b[0m \u001b[0;34m\u001b[0m\u001b[0m\n\u001b[0;32m----> 3\u001b[0;31m \u001b[0mpd\u001b[0m\u001b[0;34m.\u001b[0m\u001b[0mread_csv\u001b[0m\u001b[0;34m(\u001b[0m\u001b[0;34m\"https://perso.telecom-paristech.fr/eagan/class/igr204/data/film.csv\"\u001b[0m\u001b[0;34m)\u001b[0m\u001b[0;34m\u001b[0m\u001b[0;34m\u001b[0m\u001b[0m\n\u001b[0m\u001b[1;32m      4\u001b[0m \u001b[0;34m\u001b[0m\u001b[0m\n\u001b[1;32m      5\u001b[0m \u001b[0mpd\u001b[0m\u001b[0;34m.\u001b[0m\u001b[0mhead\u001b[0m\u001b[0;34m(\u001b[0m\u001b[0;36m10\u001b[0m\u001b[0;34m)\u001b[0m\u001b[0;34m\u001b[0m\u001b[0;34m\u001b[0m\u001b[0m\n",
            "\u001b[0;32m/usr/local/lib/python3.6/dist-packages/pandas/io/parsers.py\u001b[0m in \u001b[0;36mparser_f\u001b[0;34m(filepath_or_buffer, sep, delimiter, header, names, index_col, usecols, squeeze, prefix, mangle_dupe_cols, dtype, engine, converters, true_values, false_values, skipinitialspace, skiprows, skipfooter, nrows, na_values, keep_default_na, na_filter, verbose, skip_blank_lines, parse_dates, infer_datetime_format, keep_date_col, date_parser, dayfirst, cache_dates, iterator, chunksize, compression, thousands, decimal, lineterminator, quotechar, quoting, doublequote, escapechar, comment, encoding, dialect, error_bad_lines, warn_bad_lines, delim_whitespace, low_memory, memory_map, float_precision)\u001b[0m\n\u001b[1;32m    683\u001b[0m         )\n\u001b[1;32m    684\u001b[0m \u001b[0;34m\u001b[0m\u001b[0m\n\u001b[0;32m--> 685\u001b[0;31m         \u001b[0;32mreturn\u001b[0m \u001b[0m_read\u001b[0m\u001b[0;34m(\u001b[0m\u001b[0mfilepath_or_buffer\u001b[0m\u001b[0;34m,\u001b[0m \u001b[0mkwds\u001b[0m\u001b[0;34m)\u001b[0m\u001b[0;34m\u001b[0m\u001b[0;34m\u001b[0m\u001b[0m\n\u001b[0m\u001b[1;32m    686\u001b[0m \u001b[0;34m\u001b[0m\u001b[0m\n\u001b[1;32m    687\u001b[0m     \u001b[0mparser_f\u001b[0m\u001b[0;34m.\u001b[0m\u001b[0m__name__\u001b[0m \u001b[0;34m=\u001b[0m \u001b[0mname\u001b[0m\u001b[0;34m\u001b[0m\u001b[0;34m\u001b[0m\u001b[0m\n",
            "\u001b[0;32m/usr/local/lib/python3.6/dist-packages/pandas/io/parsers.py\u001b[0m in \u001b[0;36m_read\u001b[0;34m(filepath_or_buffer, kwds)\u001b[0m\n\u001b[1;32m    461\u001b[0m \u001b[0;34m\u001b[0m\u001b[0m\n\u001b[1;32m    462\u001b[0m     \u001b[0;32mtry\u001b[0m\u001b[0;34m:\u001b[0m\u001b[0;34m\u001b[0m\u001b[0;34m\u001b[0m\u001b[0m\n\u001b[0;32m--> 463\u001b[0;31m         \u001b[0mdata\u001b[0m \u001b[0;34m=\u001b[0m \u001b[0mparser\u001b[0m\u001b[0;34m.\u001b[0m\u001b[0mread\u001b[0m\u001b[0;34m(\u001b[0m\u001b[0mnrows\u001b[0m\u001b[0;34m)\u001b[0m\u001b[0;34m\u001b[0m\u001b[0;34m\u001b[0m\u001b[0m\n\u001b[0m\u001b[1;32m    464\u001b[0m     \u001b[0;32mfinally\u001b[0m\u001b[0;34m:\u001b[0m\u001b[0;34m\u001b[0m\u001b[0;34m\u001b[0m\u001b[0m\n\u001b[1;32m    465\u001b[0m         \u001b[0mparser\u001b[0m\u001b[0;34m.\u001b[0m\u001b[0mclose\u001b[0m\u001b[0;34m(\u001b[0m\u001b[0;34m)\u001b[0m\u001b[0;34m\u001b[0m\u001b[0;34m\u001b[0m\u001b[0m\n",
            "\u001b[0;32m/usr/local/lib/python3.6/dist-packages/pandas/io/parsers.py\u001b[0m in \u001b[0;36mread\u001b[0;34m(self, nrows)\u001b[0m\n\u001b[1;32m   1152\u001b[0m     \u001b[0;32mdef\u001b[0m \u001b[0mread\u001b[0m\u001b[0;34m(\u001b[0m\u001b[0mself\u001b[0m\u001b[0;34m,\u001b[0m \u001b[0mnrows\u001b[0m\u001b[0;34m=\u001b[0m\u001b[0;32mNone\u001b[0m\u001b[0;34m)\u001b[0m\u001b[0;34m:\u001b[0m\u001b[0;34m\u001b[0m\u001b[0;34m\u001b[0m\u001b[0m\n\u001b[1;32m   1153\u001b[0m         \u001b[0mnrows\u001b[0m \u001b[0;34m=\u001b[0m \u001b[0m_validate_integer\u001b[0m\u001b[0;34m(\u001b[0m\u001b[0;34m\"nrows\"\u001b[0m\u001b[0;34m,\u001b[0m \u001b[0mnrows\u001b[0m\u001b[0;34m)\u001b[0m\u001b[0;34m\u001b[0m\u001b[0;34m\u001b[0m\u001b[0m\n\u001b[0;32m-> 1154\u001b[0;31m         \u001b[0mret\u001b[0m \u001b[0;34m=\u001b[0m \u001b[0mself\u001b[0m\u001b[0;34m.\u001b[0m\u001b[0m_engine\u001b[0m\u001b[0;34m.\u001b[0m\u001b[0mread\u001b[0m\u001b[0;34m(\u001b[0m\u001b[0mnrows\u001b[0m\u001b[0;34m)\u001b[0m\u001b[0;34m\u001b[0m\u001b[0;34m\u001b[0m\u001b[0m\n\u001b[0m\u001b[1;32m   1155\u001b[0m \u001b[0;34m\u001b[0m\u001b[0m\n\u001b[1;32m   1156\u001b[0m         \u001b[0;31m# May alter columns / col_dict\u001b[0m\u001b[0;34m\u001b[0m\u001b[0;34m\u001b[0m\u001b[0;34m\u001b[0m\u001b[0m\n",
            "\u001b[0;32m/usr/local/lib/python3.6/dist-packages/pandas/io/parsers.py\u001b[0m in \u001b[0;36mread\u001b[0;34m(self, nrows)\u001b[0m\n\u001b[1;32m   2057\u001b[0m     \u001b[0;32mdef\u001b[0m \u001b[0mread\u001b[0m\u001b[0;34m(\u001b[0m\u001b[0mself\u001b[0m\u001b[0;34m,\u001b[0m \u001b[0mnrows\u001b[0m\u001b[0;34m=\u001b[0m\u001b[0;32mNone\u001b[0m\u001b[0;34m)\u001b[0m\u001b[0;34m:\u001b[0m\u001b[0;34m\u001b[0m\u001b[0;34m\u001b[0m\u001b[0m\n\u001b[1;32m   2058\u001b[0m         \u001b[0;32mtry\u001b[0m\u001b[0;34m:\u001b[0m\u001b[0;34m\u001b[0m\u001b[0;34m\u001b[0m\u001b[0m\n\u001b[0;32m-> 2059\u001b[0;31m             \u001b[0mdata\u001b[0m \u001b[0;34m=\u001b[0m \u001b[0mself\u001b[0m\u001b[0;34m.\u001b[0m\u001b[0m_reader\u001b[0m\u001b[0;34m.\u001b[0m\u001b[0mread\u001b[0m\u001b[0;34m(\u001b[0m\u001b[0mnrows\u001b[0m\u001b[0;34m)\u001b[0m\u001b[0;34m\u001b[0m\u001b[0;34m\u001b[0m\u001b[0m\n\u001b[0m\u001b[1;32m   2060\u001b[0m         \u001b[0;32mexcept\u001b[0m \u001b[0mStopIteration\u001b[0m\u001b[0;34m:\u001b[0m\u001b[0;34m\u001b[0m\u001b[0;34m\u001b[0m\u001b[0m\n\u001b[1;32m   2061\u001b[0m             \u001b[0;32mif\u001b[0m \u001b[0mself\u001b[0m\u001b[0;34m.\u001b[0m\u001b[0m_first_chunk\u001b[0m\u001b[0;34m:\u001b[0m\u001b[0;34m\u001b[0m\u001b[0;34m\u001b[0m\u001b[0m\n",
            "\u001b[0;32mpandas/_libs/parsers.pyx\u001b[0m in \u001b[0;36mpandas._libs.parsers.TextReader.read\u001b[0;34m()\u001b[0m\n",
            "\u001b[0;32mpandas/_libs/parsers.pyx\u001b[0m in \u001b[0;36mpandas._libs.parsers.TextReader._read_low_memory\u001b[0;34m()\u001b[0m\n",
            "\u001b[0;32mpandas/_libs/parsers.pyx\u001b[0m in \u001b[0;36mpandas._libs.parsers.TextReader._read_rows\u001b[0;34m()\u001b[0m\n",
            "\u001b[0;32mpandas/_libs/parsers.pyx\u001b[0m in \u001b[0;36mpandas._libs.parsers.TextReader._tokenize_rows\u001b[0;34m()\u001b[0m\n",
            "\u001b[0;32mpandas/_libs/parsers.pyx\u001b[0m in \u001b[0;36mpandas._libs.parsers.raise_parser_error\u001b[0;34m()\u001b[0m\n",
            "\u001b[0;31mParserError\u001b[0m: Error tokenizing data. C error: Expected 1 fields in line 3, saw 4\n"
          ]
        }
      ]
    }
  ]
}